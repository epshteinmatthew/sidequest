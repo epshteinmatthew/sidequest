{
 "cells": [
  {
   "cell_type": "code",
   "id": "initial_id",
   "metadata": {
    "collapsed": true,
    "ExecuteTime": {
     "end_time": "2025-06-19T22:00:42.978773Z",
     "start_time": "2025-06-19T22:00:42.960981Z"
    }
   },
   "source": [
    "import geopandas\n",
    "\n",
    "gdf = geopandas.read_file(\"Neighborhood_Map_Atlas_Districts/Neighborhood_Map_Atlas_Districts.shp\")\n",
    "\n",
    "gdf.geometry.iloc[19].bounds"
   ],
   "outputs": [
    {
     "data": {
      "text/plain": [
       "(1273419.37499551, 239638.499851003, 1282262.87503575, 249528.906260222)"
      ]
     },
     "execution_count": 9,
     "metadata": {},
     "output_type": "execute_result"
    }
   ],
   "execution_count": 9
  }
 ],
 "metadata": {
  "kernelspec": {
   "display_name": "Python 3",
   "language": "python",
   "name": "python3"
  },
  "language_info": {
   "codemirror_mode": {
    "name": "ipython",
    "version": 2
   },
   "file_extension": ".py",
   "mimetype": "text/x-python",
   "name": "python",
   "nbconvert_exporter": "python",
   "pygments_lexer": "ipython2",
   "version": "2.7.6"
  }
 },
 "nbformat": 4,
 "nbformat_minor": 5
}
